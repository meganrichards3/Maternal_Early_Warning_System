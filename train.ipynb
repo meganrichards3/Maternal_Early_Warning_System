{
 "cells": [
  {
   "cell_type": "markdown",
   "metadata": {},
   "source": [
    "# Training Models Script "
   ]
  },
  {
   "cell_type": "markdown",
   "metadata": {},
   "source": [
    "#### Imports "
   ]
  },
  {
   "cell_type": "code",
   "execution_count": 11,
   "metadata": {},
   "outputs": [],
   "source": [
    "import pandas as pd\n"
   ]
  },
  {
   "attachments": {},
   "cell_type": "markdown",
   "metadata": {},
   "source": [
    "#### Dataset"
   ]
  },
  {
   "cell_type": "code",
   "execution_count": 13,
   "metadata": {},
   "outputs": [
    {
     "name": "stdout",
     "output_type": "stream",
     "text": [
      "torch.Size([5])\n",
      "torch.Size([1])\n",
      "--- DataLoader ---\n",
      "torch.Size([2, 5])\n",
      "torch.Size([2, 1])\n"
     ]
    }
   ],
   "source": [
    "from datamodule.dummy import DummyDataset\n",
    "from torch.utils.data import DataLoader\n",
    "\n",
    "ds = DummyDataset(\"data/fake_dataset.csv\")\n",
    "X, y = ds[0]\n",
    "print(X.shape)\n",
    "print(y.shape)\n",
    "\n",
    "dl = DataLoader(ds, batch_size=2,shuffle=False, num_workers=0)\n",
    "print(\"--- DataLoader ---\")\n",
    "for id, batch in enumerate(dl): \n",
    "    X, y = batch \n",
    "    print(X.shape)\n",
    "    print(y.shape)\n",
    "    break"
   ]
  },
  {
   "attachments": {},
   "cell_type": "markdown",
   "metadata": {},
   "source": [
    "### Model "
   ]
  },
  {
   "cell_type": "code",
   "execution_count": null,
   "metadata": {},
   "outputs": [],
   "source": []
  }
 ],
 "metadata": {
  "kernelspec": {
   "display_name": "mews2",
   "language": "python",
   "name": "python3"
  },
  "language_info": {
   "codemirror_mode": {
    "name": "ipython",
    "version": 3
   },
   "file_extension": ".py",
   "mimetype": "text/x-python",
   "name": "python",
   "nbconvert_exporter": "python",
   "pygments_lexer": "ipython3",
   "version": "3.10.9"
  },
  "orig_nbformat": 4,
  "vscode": {
   "interpreter": {
    "hash": "c691c4b9db94dcd549410f6507991ff541169277ee2073c215f47a56bbde262e"
   }
  }
 },
 "nbformat": 4,
 "nbformat_minor": 2
}
